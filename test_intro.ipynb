{
 "cells": [
  {
   "cell_type": "code",
   "execution_count": 4,
   "metadata": {},
   "outputs": [],
   "source": [
    "import requests\n",
    "import numpy as np\n",
    "import pandas as pd\n",
    "#import matplotlib\n",
    "import matplotlib.pyplot as plt\n",
    "from scipy.stats import shapiro"
   ]
  },
  {
   "cell_type": "code",
   "execution_count": 6,
   "metadata": {},
   "outputs": [],
   "source": [
    "#скачиваются данные\n",
    "apple = pd.read_csv('https://www.alphavantage.co/query?function=TIME_SERIES_DAILY_ADJUSTED&outputsize=full&symbol=AAPL&apikey=P04PHX3MFTX587B8&datatype=csv')  \n",
    "google = pd.read_csv('https://www.alphavantage.co/query?function=TIME_SERIES_DAILY_ADJUSTED&outputsize=full&symbol=GOOG&apikey=P04PHX3MFTX587B8&datatype=csv')\n",
    "fbk = pd.read_csv('https://www.alphavantage.co/query?function=TIME_SERIES_DAILY_ADJUSTED&outputsize=full&symbol=FB&apikey=P04PHX3MFTX587B8&datatype=csv')"
   ]
  },
  {
   "cell_type": "code",
   "execution_count": 7,
   "metadata": {},
   "outputs": [],
   "source": [
    "#вырезается всё раньше 2010 года\n",
    "apple = apple[apple['timestamp'] >'2010']\n",
    "apple = apple[::-1]\n",
    "apple.index = apple.index[::-1]\n",
    "\n",
    "google = google[google['timestamp'] >'2010']\n",
    "google = google[::-1]\n",
    "google.index = google.index[::-1]\n",
    "\n",
    "fbk = fbk[fbk['timestamp'] >'2010']\n",
    "fbk = fbk[::-1]\n",
    "fbk.index = fbk.index[::-1]"
   ]
  },
  {
   "cell_type": "code",
   "execution_count": 8,
   "metadata": {},
   "outputs": [],
   "source": [
    "apple['d_ret'] = apple['adjusted_close'].pct_change()\n",
    "apple = apple[1:]\n",
    "\n",
    "google['d_ret'] = google['adjusted_close'].pct_change()\n",
    "google = google[1:]\n",
    "\n",
    "fbk['d_ret'] = fbk['adjusted_close'].pct_change()\n",
    "fbk = fbk[1:]"
   ]
  },
  {
   "cell_type": "code",
   "execution_count": 9,
   "metadata": {
    "scrolled": true
   },
   "outputs": [
    {
     "data": {
      "image/png": "[encoded data removed]",
      "text/plain": [
       "<Figure size 1728x288 with 3 Axes>"
      ]
     },
     "metadata": {
      "needs_background": "light"
     },
     "output_type": "display_data"
    }
   ],
   "source": [
    "#графики dayly returns\n",
    "plot = plt.figure(figsize=(24,4))\n",
    "\n",
    "apl = plot.add_subplot(131, title = 'AAPL')\n",
    "plt.hist(apple['d_ret'], bins = 100)\n",
    "\n",
    "ggl = plot.add_subplot(132, title = 'GOOG')\n",
    "plt.hist(google['d_ret'], bins = 100)\n",
    "\n",
    "fb = plot.add_subplot(133, title = 'FB')\n",
    "plt.hist(fbk['d_ret'], bins = 100)\n",
    "\n",
    "plt.show()"
   ]
  },
  {
   "cell_type": "code",
   "execution_count": 10,
   "metadata": {},
   "outputs": [],
   "source": [
    "#apple\n",
    "#google\n",
    "#fbk"
   ]
  },
  {
   "cell_type": "code",
   "execution_count": 11,
   "metadata": {},
   "outputs": [
    {
     "data": {
      "text/plain": [
       "count    2618.000000\n",
       "mean        0.001101\n",
       "std         0.017383\n",
       "min        -0.128647\n",
       "25%        -0.006928\n",
       "50%         0.000904\n",
       "75%         0.010128\n",
       "max         0.119808\n",
       "Name: d_ret, dtype: float64"
      ]
     },
     "execution_count": 11,
     "metadata": {},
     "output_type": "execute_result"
    }
   ],
   "source": [
    "apple['d_ret'].describe()"
   ]
  },
  {
   "cell_type": "code",
   "execution_count": 12,
   "metadata": {},
   "outputs": [
    {
     "data": {
      "text/plain": [
       "count    1554.000000\n",
       "mean        0.000739\n",
       "std         0.016445\n",
       "min        -0.111008\n",
       "25%        -0.006264\n",
       "50%         0.000691\n",
       "75%         0.008677\n",
       "max         0.160524\n",
       "Name: d_ret, dtype: float64"
      ]
     },
     "execution_count": 12,
     "metadata": {},
     "output_type": "execute_result"
    }
   ],
   "source": [
    "google['d_ret'].describe()"
   ]
  },
  {
   "cell_type": "code",
   "execution_count": 13,
   "metadata": {},
   "outputs": [
    {
     "data": {
      "text/plain": [
       "count    2019.000000\n",
       "mean        0.001151\n",
       "std         0.023495\n",
       "min        -0.189609\n",
       "25%        -0.009159\n",
       "50%         0.001055\n",
       "75%         0.011940\n",
       "max         0.296077\n",
       "Name: d_ret, dtype: float64"
      ]
     },
     "execution_count": 13,
     "metadata": {},
     "output_type": "execute_result"
    }
   ],
   "source": [
    "fbk['d_ret'].describe()"
   ]
  },
  {
   "cell_type": "code",
   "execution_count": 14,
   "metadata": {},
   "outputs": [
    {
     "name": "stdout",
     "output_type": "stream",
     "text": [
      "0.9324210286140442 6.878102504041279e-33\n",
      "AAPL: не нормальное распределение\n"
     ]
    }
   ],
   "source": [
    "stat, prob = shapiro(apple['d_ret'])\n",
    "print(stat, prob)\n",
    "\n",
    "print('AAPL:', end = ' ')\n",
    "alpha = 0.05\n",
    "if prob > alpha:\n",
    "    print('нормальноое распределение')\n",
    "else:\n",
    "    print('не нормальное распределение')"
   ]
  },
  {
   "cell_type": "code",
   "execution_count": 15,
   "metadata": {},
   "outputs": [
    {
     "name": "stdout",
     "output_type": "stream",
     "text": [
      "0.8936521410942078 1.821407690349125e-31\n",
      "GOOG: не нормальное распределение\n"
     ]
    }
   ],
   "source": [
    "stat, prob = shapiro(google['d_ret'])\n",
    "print(stat, prob)\n",
    "\n",
    "print('GOOG:', end = ' ')\n",
    "alpha = 0.05\n",
    "if prob > alpha:\n",
    "    print('нормальноое распределение')\n",
    "else:\n",
    "    print('не нормальное распределение')"
   ]
  },
  {
   "cell_type": "code",
   "execution_count": 16,
   "metadata": {},
   "outputs": [
    {
     "name": "stdout",
     "output_type": "stream",
     "text": [
      "0.8673872351646423 2.472617764971962e-38\n",
      "FB: не нормальное распределение\n"
     ]
    }
   ],
   "source": [
    "stat, prob = shapiro(fbk['d_ret'])\n",
    "print(stat, prob)\n",
    "\n",
    "print('FB:', end = ' ')\n",
    "alpha = 0.05\n",
    "if prob > alpha:\n",
    "    print('нормальноое распределение')\n",
    "else:\n",
    "    print('не нормальное распределение')"
   ]
  },
  {
   "cell_type": "code",
   "execution_count": 17,
   "metadata": {},
   "outputs": [],
   "source": [
    "#если не установлен fitter\n",
    "\n",
    "#import subprocess, sys\n",
    "#subprocess.check_call([sys.executable, '-m', 'pip', 'install', 'fitter'])"
   ]
  },
  {
   "cell_type": "code",
   "execution_count": 18,
   "metadata": {},
   "outputs": [],
   "source": [
    "from fitter import Fitter"
   ]
  },
  {
   "cell_type": "code",
   "execution_count": 19,
   "metadata": {},
   "outputs": [],
   "source": [
    "import warnings\n",
    "warnings.filterwarnings(\"ignore\")"
   ]
  },
  {
   "cell_type": "code",
   "execution_count": 71,
   "metadata": {},
   "outputs": [
    {
     "name": "stdout",
     "output_type": "stream",
     "text": [
      "SKIPPED alpha distribution (taking more than 30 seconds)\n",
      "Fitted anglit distribution with error=8328.289521892551)\n",
      "Fitted arcsine distribution with error=8377.79005051394)\n",
      "SKIPPED argus distribution (taking more than 30 seconds)\n",
      "Fitted beta distribution with error=640.9362824105258)\n",
      "SKIPPED betaprime distribution (taking more than 30 seconds)\n",
      "Fitted bradford distribution with error=6970.465522130715)\n",
      "SKIPPED burr distribution (taking more than 30 seconds)\n",
      "SKIPPED burr12 distribution (taking more than 30 seconds)\n",
      "Fitted cauchy distribution with error=437.52975841413894)\n",
      "SKIPPED chi distribution (taking more than 30 seconds)\n",
      "SKIPPED chi2 distribution (taking more than 30 seconds)\n",
      "Fitted cosine distribution with error=8328.289521892551)\n",
      "SKIPPED crystalball distribution (taking more than 30 seconds)\n",
      "Fitted dgamma distribution with error=150.74567332155593)\n",
      "Fitted dweibull distribution with error=174.5891190872824)\n",
      "SKIPPED erlang distribution (taking more than 30 seconds)\n",
      "Fitted expon distribution with error=7542.444260911407)\n",
      "Fitted exponnorm distribution with error=563.6399293374265)\n",
      "SKIPPED exponpow distribution (taking more than 30 seconds)\n",
      "SKIPPED exponweib distribution (taking more than 30 seconds)\n",
      "SKIPPED f distribution (taking more than 30 seconds)\n",
      "SKIPPED fatiguelife distribution (taking more than 30 seconds)\n",
      "SKIPPED fisk distribution (taking more than 30 seconds)\n",
      "SKIPPED foldcauchy distribution (taking more than 30 seconds)\n",
      "SKIPPED foldnorm distribution (taking more than 30 seconds)\n",
      "SKIPPED frechet_l distribution (taking more than 30 seconds)\n",
      "SKIPPED frechet_r distribution (taking more than 30 seconds)\n",
      "SKIPPED gamma distribution (taking more than 30 seconds)\n",
      "SKIPPED gausshyper distribution (taking more than 30 seconds)\n",
      "SKIPPED genexpon distribution (taking more than 30 seconds)\n",
      "SKIPPED genextreme distribution (taking more than 30 seconds)\n",
      "SKIPPED gengamma distribution (taking more than 30 seconds)\n",
      "SKIPPED genhalflogistic distribution (taking more than 30 seconds)\n",
      "Fitted genlogistic distribution with error=194.05268699207008)\n",
      "Fitted gennorm distribution with error=216.91648652079613)\n",
      "SKIPPED genpareto distribution (taking more than 30 seconds)\n",
      "Fitted gilbrat distribution with error=6920.8178106121595)\n",
      "Fitted gompertz distribution with error=2145.3297531388357)\n",
      "Fitted gumbel_l distribution with error=2143.5838121565225)\n",
      "Fitted gumbel_r distribution with error=2458.307214156006)\n",
      "Fitted halfcauchy distribution with error=7287.169961677208)\n",
      "SKIPPED halfgennorm distribution (taking more than 30 seconds)\n",
      "Fitted halflogistic distribution with error=7111.629396032637)\n",
      "Fitted halfnorm distribution with error=7049.796390007611)\n",
      "Fitted hypsecant distribution with error=130.74853220480244)\n",
      "SKIPPED invgamma distribution (taking more than 30 seconds)\n",
      "SKIPPED invgauss distribution (taking more than 30 seconds)\n",
      "SKIPPED invweibull distribution (taking more than 30 seconds)\n",
      "SKIPPED johnsonsb distribution (taking more than 30 seconds)\n",
      "SKIPPED johnsonsu distribution (taking more than 30 seconds)\n",
      "SKIPPED kappa3 distribution (taking more than 30 seconds)\n",
      "SKIPPED kappa4 distribution (taking more than 30 seconds)\n",
      "SKIPPED ksone distribution (taking more than 30 seconds)\n",
      "Fitted kstwobign distribution with error=4272.2450309734495)\n",
      "Fitted laplace distribution with error=239.55741037019897)\n",
      "Fitted levy distribution with error=7298.72337204505)\n",
      "Fitted levy_l distribution with error=7204.095162038691)\n",
      "SKIPPED levy_stable distribution (taking more than 30 seconds)\n",
      "SKIPPED loggamma distribution (taking more than 30 seconds)\n",
      "Fitted logistic distribution with error=197.20200029958227)\n",
      "SKIPPED loglaplace distribution (taking more than 30 seconds)\n",
      "SKIPPED lognorm distribution (taking more than 30 seconds)\n",
      "SKIPPED lomax distribution (taking more than 30 seconds)\n",
      "Fitted maxwell distribution with error=5037.717384405946)\n",
      "SKIPPED mielke distribution (taking more than 30 seconds)\n",
      "Fitted moyal distribution with error=3408.3893125154323)\n",
      "SKIPPED nakagami distribution (taking more than 30 seconds)\n",
      "SKIPPED ncf distribution (taking more than 30 seconds)\n",
      "SKIPPED nct distribution (taking more than 30 seconds)\n",
      "SKIPPED ncx2 distribution (taking more than 30 seconds)\n",
      "Fitted norm distribution with error=641.691640032683)\n",
      "SKIPPED norminvgauss distribution (taking more than 30 seconds)\n",
      "Fitted pareto distribution with error=7708.602717794377)\n",
      "SKIPPED pearson3 distribution (taking more than 30 seconds)\n",
      "Fitted powerlaw distribution with error=6714.973628733807)\n",
      "SKIPPED powerlognorm distribution (taking more than 30 seconds)\n",
      "SKIPPED powernorm distribution (taking more than 30 seconds)\n",
      "Fitted rayleigh distribution with error=5772.488572029794)\n",
      "Fitted rdist distribution with error=8328.289521892551)\n",
      "SKIPPED recipinvgauss distribution (taking more than 30 seconds)\n",
      "SKIPPED reciprocal distribution (taking more than 30 seconds)\n",
      "SKIPPED rice distribution (taking more than 30 seconds)\n",
      "SKIPPED rv_continuous distribution (taking more than 30 seconds)\n",
      "SKIPPED rv_histogram distribution (taking more than 30 seconds)\n",
      "Fitted semicircular distribution with error=8328.289521892551)\n",
      "Fitted skewnorm distribution with error=638.0746577204555)\n",
      "SKIPPED t distribution (taking more than 30 seconds)\n",
      "SKIPPED trapz distribution (taking more than 30 seconds)\n",
      "SKIPPED triang distribution (taking more than 30 seconds)\n",
      "SKIPPED truncexpon distribution (taking more than 30 seconds)\n",
      "SKIPPED truncnorm distribution (taking more than 30 seconds)\n",
      "SKIPPED tukeylambda distribution (taking more than 30 seconds)\n",
      "Fitted uniform distribution with error=6708.3328386848725)\n",
      "SKIPPED vonmises distribution (taking more than 30 seconds)\n",
      "SKIPPED vonmises_line distribution (taking more than 30 seconds)\n",
      "Fitted wald distribution with error=6663.005282292024)\n",
      "SKIPPED weibull_max distribution (taking more than 30 seconds)\n",
      "SKIPPED weibull_min distribution (taking more than 30 seconds)\n",
      "Fitted wrapcauchy distribution with error=nan)\n"
     ]
    }
   ],
   "source": [
    "f_apple = Fitter(apple['d_ret'])\n",
    "f_apple.fit()"
   ]
  },
  {
   "cell_type": "code",
   "execution_count": 72,
   "metadata": {},
   "outputs": [
    {
     "name": "stdout",
     "output_type": "stream",
     "text": [
      "SKIPPED alpha distribution (taking more than 30 seconds)\n",
      "Fitted anglit distribution with error=8809.634311245494)\n",
      "SKIPPED arcsine distribution (taking more than 30 seconds)\n",
      "SKIPPED argus distribution (taking more than 30 seconds)\n",
      "SKIPPED beta distribution (taking more than 30 seconds)\n",
      "SKIPPED betaprime distribution (taking more than 30 seconds)\n",
      "Fitted bradford distribution with error=7468.179079177972)\n",
      "SKIPPED burr distribution (taking more than 30 seconds)\n",
      "SKIPPED burr12 distribution (taking more than 30 seconds)\n",
      "Fitted cauchy distribution with error=307.6967132933264)\n",
      "SKIPPED chi distribution (taking more than 30 seconds)\n",
      "SKIPPED chi2 distribution (taking more than 30 seconds)\n",
      "Fitted cosine distribution with error=8809.634311245494)\n",
      "SKIPPED crystalball distribution (taking more than 30 seconds)\n",
      "Fitted dgamma distribution with error=159.0365064278264)\n",
      "Fitted dweibull distribution with error=173.59423248046065)\n",
      "SKIPPED erlang distribution (taking more than 30 seconds)\n",
      "Fitted expon distribution with error=7994.060376554163)\n",
      "Fitted exponnorm distribution with error=919.0690566189064)\n",
      "SKIPPED exponpow distribution (taking more than 30 seconds)\n",
      "SKIPPED exponweib distribution (taking more than 30 seconds)\n",
      "SKIPPED f distribution (taking more than 30 seconds)\n",
      "SKIPPED fatiguelife distribution (taking more than 30 seconds)\n",
      "SKIPPED fisk distribution (taking more than 30 seconds)\n",
      "SKIPPED foldcauchy distribution (taking more than 30 seconds)\n",
      "SKIPPED foldnorm distribution (taking more than 30 seconds)\n",
      "Fitted frechet_l distribution with error=2088.6005360325935)\n",
      "SKIPPED frechet_r distribution (taking more than 30 seconds)\n",
      "SKIPPED gamma distribution (taking more than 30 seconds)\n",
      "SKIPPED gausshyper distribution (taking more than 30 seconds)\n",
      "SKIPPED genexpon distribution (taking more than 30 seconds)\n",
      "SKIPPED genextreme distribution (taking more than 30 seconds)\n",
      "SKIPPED gengamma distribution (taking more than 30 seconds)\n",
      "SKIPPED genhalflogistic distribution (taking more than 30 seconds)\n",
      "Fitted genlogistic distribution with error=393.7965719732958)\n",
      "Fitted gennorm distribution with error=176.00473548304547)\n",
      "SKIPPED genpareto distribution (taking more than 30 seconds)\n",
      "Fitted gilbrat distribution with error=7345.818474679591)\n",
      "Fitted gompertz distribution with error=7528.756169853478)\n",
      "Fitted gumbel_l distribution with error=3754.7808231106837)\n",
      "Fitted gumbel_r distribution with error=2796.064920467386)\n",
      "Fitted halfcauchy distribution with error=7725.658808496363)\n",
      "SKIPPED halfgennorm distribution (taking more than 30 seconds)\n",
      "Fitted halflogistic distribution with error=7533.4217229621)\n",
      "Fitted halfnorm distribution with error=7393.17664710451)\n",
      "Fitted hypsecant distribution with error=275.2070344548039)\n",
      "SKIPPED invgamma distribution (taking more than 30 seconds)\n",
      "SKIPPED invgauss distribution (taking more than 30 seconds)\n",
      "SKIPPED invweibull distribution (taking more than 30 seconds)\n",
      "SKIPPED johnsonsb distribution (taking more than 30 seconds)\n",
      "SKIPPED johnsonsu distribution (taking more than 30 seconds)\n",
      "SKIPPED kappa3 distribution (taking more than 30 seconds)\n",
      "SKIPPED kappa4 distribution (taking more than 30 seconds)\n",
      "SKIPPED ksone distribution (taking more than 30 seconds)\n",
      "Fitted kstwobign distribution with error=4584.551067245979)\n",
      "Fitted laplace distribution with error=160.830153470794)\n",
      "Fitted levy distribution with error=7734.924342772257)\n",
      "Fitted levy_l distribution with error=8042.701712446713)\n",
      "SKIPPED levy_stable distribution (taking more than 30 seconds)\n",
      "SKIPPED loggamma distribution (taking more than 30 seconds)\n",
      "Fitted logistic distribution with error=415.068989505941)\n",
      "SKIPPED loglaplace distribution (taking more than 30 seconds)\n",
      "SKIPPED lognorm distribution (taking more than 30 seconds)\n",
      "SKIPPED lomax distribution (taking more than 30 seconds)\n",
      "Fitted maxwell distribution with error=5336.785170761706)\n",
      "SKIPPED mielke distribution (taking more than 30 seconds)\n",
      "Fitted moyal distribution with error=3739.6815505788936)\n",
      "SKIPPED nakagami distribution (taking more than 30 seconds)\n",
      "SKIPPED ncf distribution (taking more than 30 seconds)\n",
      "SKIPPED nct distribution (taking more than 30 seconds)\n",
      "SKIPPED ncx2 distribution (taking more than 30 seconds)\n",
      "Fitted norm distribution with error=1092.486725967705)\n",
      "SKIPPED norminvgauss distribution (taking more than 30 seconds)\n",
      "SKIPPED pareto distribution (taking more than 30 seconds)\n",
      "SKIPPED pearson3 distribution (taking more than 30 seconds)\n",
      "SKIPPED powerlaw distribution (taking more than 30 seconds)\n",
      "SKIPPED powerlognorm distribution (taking more than 30 seconds)\n",
      "SKIPPED powernorm distribution (taking more than 30 seconds)\n",
      "Fitted rayleigh distribution with error=6106.629886907715)\n",
      "Fitted rdist distribution with error=8809.634311245494)\n",
      "SKIPPED recipinvgauss distribution (taking more than 30 seconds)\n",
      "SKIPPED reciprocal distribution (taking more than 30 seconds)\n",
      "SKIPPED rice distribution (taking more than 30 seconds)\n",
      "SKIPPED rv_continuous distribution (taking more than 30 seconds)\n",
      "SKIPPED rv_histogram distribution (taking more than 30 seconds)\n",
      "Fitted semicircular distribution with error=8809.634311245494)\n",
      "Fitted skewnorm distribution with error=1075.4591558240459)\n",
      "SKIPPED t distribution (taking more than 30 seconds)\n",
      "SKIPPED trapz distribution (taking more than 30 seconds)\n",
      "SKIPPED triang distribution (taking more than 30 seconds)\n",
      "SKIPPED truncexpon distribution (taking more than 30 seconds)\n",
      "SKIPPED truncnorm distribution (taking more than 30 seconds)\n",
      "SKIPPED tukeylambda distribution (taking more than 30 seconds)\n",
      "Fitted uniform distribution with error=7453.331906689577)\n",
      "SKIPPED vonmises distribution (taking more than 30 seconds)\n",
      "SKIPPED vonmises_line distribution (taking more than 30 seconds)\n",
      "Fitted wald distribution with error=7086.282655137547)\n",
      "SKIPPED weibull_max distribution (taking more than 30 seconds)\n",
      "SKIPPED weibull_min distribution (taking more than 30 seconds)\n",
      "Fitted wrapcauchy distribution with error=nan)\n"
     ]
    }
   ],
   "source": [
    "f_google = Fitter(google['d_ret'])\n",
    "f_google.fit()"
   ]
  },
  {
   "cell_type": "code",
   "execution_count": 73,
   "metadata": {},
   "outputs": [
    {
     "name": "stdout",
     "output_type": "stream",
     "text": [
      "SKIPPED alpha distribution (taking more than 30 seconds)\n",
      "Fitted anglit distribution with error=2757.578463310867)\n",
      "SKIPPED arcsine distribution (taking more than 30 seconds)\n",
      "SKIPPED argus distribution (taking more than 30 seconds)\n",
      "SKIPPED beta distribution (taking more than 30 seconds)\n",
      "SKIPPED betaprime distribution (taking more than 30 seconds)\n",
      "SKIPPED bradford distribution (taking more than 30 seconds)\n",
      "SKIPPED burr distribution (taking more than 30 seconds)\n",
      "SKIPPED burr12 distribution (taking more than 30 seconds)\n",
      "Fitted cauchy distribution with error=115.64370607922812)\n",
      "SKIPPED chi distribution (taking more than 30 seconds)\n",
      "SKIPPED chi2 distribution (taking more than 30 seconds)\n",
      "Fitted cosine distribution with error=3477.174733573149)\n",
      "SKIPPED crystalball distribution (taking more than 30 seconds)\n",
      "SKIPPED dgamma distribution (taking more than 30 seconds)\n",
      "SKIPPED dweibull distribution (taking more than 30 seconds)\n",
      "SKIPPED erlang distribution (taking more than 30 seconds)\n",
      "Fitted expon distribution with error=3213.409874674339)\n",
      "Fitted exponnorm distribution with error=321.6399170555664)\n",
      "SKIPPED exponpow distribution (taking more than 30 seconds)\n",
      "SKIPPED exponweib distribution (taking more than 30 seconds)\n",
      "SKIPPED f distribution (taking more than 30 seconds)\n",
      "SKIPPED fatiguelife distribution (taking more than 30 seconds)\n",
      "SKIPPED fisk distribution (taking more than 30 seconds)\n",
      "SKIPPED foldcauchy distribution (taking more than 30 seconds)\n",
      "SKIPPED foldnorm distribution (taking more than 30 seconds)\n",
      "SKIPPED frechet_l distribution (taking more than 30 seconds)\n",
      "SKIPPED frechet_r distribution (taking more than 30 seconds)\n",
      "SKIPPED gamma distribution (taking more than 30 seconds)\n",
      "SKIPPED gausshyper distribution (taking more than 30 seconds)\n",
      "SKIPPED genexpon distribution (taking more than 30 seconds)\n",
      "SKIPPED genextreme distribution (taking more than 30 seconds)\n",
      "SKIPPED gengamma distribution (taking more than 30 seconds)\n",
      "SKIPPED genhalflogistic distribution (taking more than 30 seconds)\n",
      "Fitted genlogistic distribution with error=113.84553073364086)\n",
      "Fitted gennorm distribution with error=62.395292453593946)\n",
      "SKIPPED genpareto distribution (taking more than 30 seconds)\n",
      "SKIPPED gilbrat distribution (taking more than 30 seconds)\n",
      "SKIPPED gompertz distribution (taking more than 30 seconds)\n",
      "Fitted gumbel_l distribution with error=1765.154960310062)\n",
      "Fitted gumbel_r distribution with error=1226.821121971706)\n",
      "Fitted halfcauchy distribution with error=3123.932314316251)\n",
      "SKIPPED halfgennorm distribution (taking more than 30 seconds)\n",
      "SKIPPED halflogistic distribution (taking more than 30 seconds)\n",
      "Fitted halfnorm distribution with error=3036.6895003832324)\n",
      "Fitted hypsecant distribution with error=65.5291729924546)\n",
      "SKIPPED invgamma distribution (taking more than 30 seconds)\n",
      "SKIPPED invgauss distribution (taking more than 30 seconds)\n",
      "SKIPPED invweibull distribution (taking more than 30 seconds)\n",
      "SKIPPED johnsonsb distribution (taking more than 30 seconds)\n",
      "SKIPPED johnsonsu distribution (taking more than 30 seconds)\n",
      "SKIPPED kappa3 distribution (taking more than 30 seconds)\n",
      "SKIPPED kappa4 distribution (taking more than 30 seconds)\n",
      "SKIPPED ksone distribution (taking more than 30 seconds)\n",
      "SKIPPED kstwobign distribution (taking more than 30 seconds)\n",
      "Fitted laplace distribution with error=41.47005228711832)\n",
      "Fitted levy distribution with error=3125.3582264715374)\n",
      "SKIPPED levy_l distribution (taking more than 30 seconds)\n",
      "SKIPPED levy_stable distribution (taking more than 30 seconds)\n",
      "SKIPPED loggamma distribution (taking more than 30 seconds)\n",
      "Fitted logistic distribution with error=118.10313185278201)\n",
      "SKIPPED loglaplace distribution (taking more than 30 seconds)\n",
      "SKIPPED lognorm distribution (taking more than 30 seconds)\n",
      "SKIPPED lomax distribution (taking more than 30 seconds)\n",
      "SKIPPED maxwell distribution (taking more than 30 seconds)\n",
      "SKIPPED mielke distribution (taking more than 30 seconds)\n",
      "Fitted moyal distribution with error=1628.5828781925495)\n",
      "SKIPPED nakagami distribution (taking more than 30 seconds)\n",
      "SKIPPED ncf distribution (taking more than 30 seconds)\n",
      "SKIPPED nct distribution (taking more than 30 seconds)\n",
      "SKIPPED ncx2 distribution (taking more than 30 seconds)\n",
      "Fitted norm distribution with error=419.60524732990774)\n",
      "SKIPPED norminvgauss distribution (taking more than 30 seconds)\n",
      "SKIPPED pareto distribution (taking more than 30 seconds)\n",
      "SKIPPED pearson3 distribution (taking more than 30 seconds)\n",
      "SKIPPED powerlaw distribution (taking more than 30 seconds)\n",
      "SKIPPED powerlognorm distribution (taking more than 30 seconds)\n",
      "SKIPPED powernorm distribution (taking more than 30 seconds)\n",
      "Fitted rayleigh distribution with error=2583.0877462715302)\n",
      "SKIPPED rdist distribution (taking more than 30 seconds)\n",
      "SKIPPED recipinvgauss distribution (taking more than 30 seconds)\n",
      "SKIPPED reciprocal distribution (taking more than 30 seconds)\n",
      "SKIPPED rice distribution (taking more than 30 seconds)\n",
      "SKIPPED rv_continuous distribution (taking more than 30 seconds)\n",
      "SKIPPED rv_histogram distribution (taking more than 30 seconds)\n",
      "SKIPPED semicircular distribution (taking more than 30 seconds)\n",
      "SKIPPED skewnorm distribution (taking more than 30 seconds)\n",
      "SKIPPED t distribution (taking more than 30 seconds)\n",
      "SKIPPED trapz distribution (taking more than 30 seconds)\n",
      "SKIPPED triang distribution (taking more than 30 seconds)\n",
      "SKIPPED truncexpon distribution (taking more than 30 seconds)\n",
      "SKIPPED truncnorm distribution (taking more than 30 seconds)\n",
      "SKIPPED tukeylambda distribution (taking more than 30 seconds)\n",
      "Fitted uniform distribution with error=3053.2501851929765)\n",
      "SKIPPED vonmises distribution (taking more than 30 seconds)\n",
      "SKIPPED vonmises_line distribution (taking more than 30 seconds)\n",
      "Fitted wald distribution with error=2911.1287703477883)\n",
      "SKIPPED weibull_max distribution (taking more than 30 seconds)\n",
      "SKIPPED weibull_min distribution (taking more than 30 seconds)\n",
      "Fitted wrapcauchy distribution with error=nan)\n"
     ]
    }
   ],
   "source": [
    "f_fbk = Fitter(fbk['d_ret'])\n",
    "f_fbk.fit()"
   ]
  },
  {
   "cell_type": "code",
   "execution_count": 26,
   "metadata": {},
   "outputs": [
    {
     "name": "stdout",
     "output_type": "stream",
     "text": [
      "Fitted t distribution with error=112.99192240365547)\n",
      "Fitted norm distribution with error=643.3904686496073)\n"
     ]
    }
   ],
   "source": [
    "f_a = Fitter(apple['d_ret'], distributions=['t', 'norm'])\n",
    "f_a.fit()"
   ]
  },
  {
   "cell_type": "code",
   "execution_count": 27,
   "metadata": {},
   "outputs": [
    {
     "name": "stdout",
     "output_type": "stream",
     "text": [
      "Fitted t distribution with error=194.90342878165993)\n",
      "Fitted norm distribution with error=1089.738239540742)\n"
     ]
    }
   ],
   "source": [
    "f_g = Fitter(google['d_ret'], distributions=['t', 'norm'])\n",
    "f_g.fit()"
   ]
  },
  {
   "cell_type": "code",
   "execution_count": 28,
   "metadata": {},
   "outputs": [
    {
     "name": "stdout",
     "output_type": "stream",
     "text": [
      "Fitted t distribution with error=36.13857664240216)\n",
      "Fitted norm distribution with error=420.93401750161627)\n"
     ]
    }
   ],
   "source": [
    "f_fbk = Fitter(fbk['d_ret'], distributions=['t', 'norm'])\n",
    "f_fbk.fit()"
   ]
  },
  {
   "cell_type": "code",
   "execution_count": 74,
   "metadata": {},
   "outputs": [
    {
     "data": {
      "text/html": [
       "<div>\n",
       "<style scoped>\n",
       "    .dataframe tbody tr th:only-of-type {\n",
       "        vertical-align: middle;\n",
       "    }\n",
       "\n",
       "    .dataframe tbody tr th {\n",
       "        vertical-align: top;\n",
       "    }\n",
       "\n",
       "    .dataframe thead th {\n",
       "        text-align: right;\n",
       "    }\n",
       "</style>\n",
       "<table border=\"1\" class=\"dataframe\">\n",
       "  <thead>\n",
       "    <tr style=\"text-align: right;\">\n",
       "      <th></th>\n",
       "      <th>sumsquare_error</th>\n",
       "      <th>aic</th>\n",
       "      <th>bic</th>\n",
       "      <th>kl_div</th>\n",
       "    </tr>\n",
       "  </thead>\n",
       "  <tbody>\n",
       "    <tr>\n",
       "      <td>hypsecant</td>\n",
       "      <td>130.748532</td>\n",
       "      <td>390.808756</td>\n",
       "      <td>-7826.121935</td>\n",
       "      <td>inf</td>\n",
       "    </tr>\n",
       "    <tr>\n",
       "      <td>dgamma</td>\n",
       "      <td>150.745673</td>\n",
       "      <td>335.689314</td>\n",
       "      <td>-7445.805272</td>\n",
       "      <td>inf</td>\n",
       "    </tr>\n",
       "    <tr>\n",
       "      <td>dweibull</td>\n",
       "      <td>174.589119</td>\n",
       "      <td>338.904340</td>\n",
       "      <td>-7061.521883</td>\n",
       "      <td>inf</td>\n",
       "    </tr>\n",
       "    <tr>\n",
       "      <td>genlogistic</td>\n",
       "      <td>194.052687</td>\n",
       "      <td>482.023579</td>\n",
       "      <td>-6784.919684</td>\n",
       "      <td>inf</td>\n",
       "    </tr>\n",
       "    <tr>\n",
       "      <td>logistic</td>\n",
       "      <td>197.202000</td>\n",
       "      <td>497.324093</td>\n",
       "      <td>-6750.658697</td>\n",
       "      <td>inf</td>\n",
       "    </tr>\n",
       "  </tbody>\n",
       "</table>\n",
       "</div>"
      ],
      "text/plain": [
       "             sumsquare_error         aic          bic  kl_div\n",
       "hypsecant         130.748532  390.808756 -7826.121935     inf\n",
       "dgamma            150.745673  335.689314 -7445.805272     inf\n",
       "dweibull          174.589119  338.904340 -7061.521883     inf\n",
       "genlogistic       194.052687  482.023579 -6784.919684     inf\n",
       "logistic          197.202000  497.324093 -6750.658697     inf"
      ]
     },
     "execution_count": 74,
     "metadata": {},
     "output_type": "execute_result"
    },
    {
     "data": {
      "image/png": "[encoded data removed]",
      "text/plain": [
       "<Figure size 432x288 with 1 Axes>"
      ]
     },
     "metadata": {
      "needs_background": "light"
     },
     "output_type": "display_data"
    }
   ],
   "source": [
    "#с минимальными отклонениями\n",
    "f_apple.summary()"
   ]
  },
  {
   "cell_type": "code",
   "execution_count": 75,
   "metadata": {},
   "outputs": [
    {
     "data": {
      "text/html": [
       "<div>\n",
       "<style scoped>\n",
       "    .dataframe tbody tr th:only-of-type {\n",
       "        vertical-align: middle;\n",
       "    }\n",
       "\n",
       "    .dataframe tbody tr th {\n",
       "        vertical-align: top;\n",
       "    }\n",
       "\n",
       "    .dataframe thead th {\n",
       "        text-align: right;\n",
       "    }\n",
       "</style>\n",
       "<table border=\"1\" class=\"dataframe\">\n",
       "  <thead>\n",
       "    <tr style=\"text-align: right;\">\n",
       "      <th></th>\n",
       "      <th>sumsquare_error</th>\n",
       "      <th>aic</th>\n",
       "      <th>bic</th>\n",
       "      <th>kl_div</th>\n",
       "    </tr>\n",
       "  </thead>\n",
       "  <tbody>\n",
       "    <tr>\n",
       "      <td>dgamma</td>\n",
       "      <td>159.036506</td>\n",
       "      <td>539.302952</td>\n",
       "      <td>-3516.948172</td>\n",
       "      <td>inf</td>\n",
       "    </tr>\n",
       "    <tr>\n",
       "      <td>laplace</td>\n",
       "      <td>160.830153</td>\n",
       "      <td>524.972565</td>\n",
       "      <td>-3506.879089</td>\n",
       "      <td>inf</td>\n",
       "    </tr>\n",
       "    <tr>\n",
       "      <td>dweibull</td>\n",
       "      <td>173.594232</td>\n",
       "      <td>504.160630</td>\n",
       "      <td>-3380.925867</td>\n",
       "      <td>inf</td>\n",
       "    </tr>\n",
       "    <tr>\n",
       "      <td>gennorm</td>\n",
       "      <td>176.004735</td>\n",
       "      <td>444.312747</td>\n",
       "      <td>-3359.509497</td>\n",
       "      <td>inf</td>\n",
       "    </tr>\n",
       "    <tr>\n",
       "      <td>hypsecant</td>\n",
       "      <td>275.207034</td>\n",
       "      <td>663.472590</td>\n",
       "      <td>-2672.646615</td>\n",
       "      <td>inf</td>\n",
       "    </tr>\n",
       "  </tbody>\n",
       "</table>\n",
       "</div>"
      ],
      "text/plain": [
       "           sumsquare_error         aic          bic  kl_div\n",
       "dgamma          159.036506  539.302952 -3516.948172     inf\n",
       "laplace         160.830153  524.972565 -3506.879089     inf\n",
       "dweibull        173.594232  504.160630 -3380.925867     inf\n",
       "gennorm         176.004735  444.312747 -3359.509497     inf\n",
       "hypsecant       275.207034  663.472590 -2672.646615     inf"
      ]
     },
     "execution_count": 75,
     "metadata": {},
     "output_type": "execute_result"
    },
    {
     "data": {
      "image/png": "[encoded data removed]",
      "text/plain": [
       "<Figure size 432x288 with 1 Axes>"
      ]
     },
     "metadata": {
      "needs_background": "light"
     },
     "output_type": "display_data"
    }
   ],
   "source": [
    "f_google.summary()"
   ]
  },
  {
   "cell_type": "code",
   "execution_count": 86,
   "metadata": {},
   "outputs": [
    {
     "data": {
      "text/html": [
       "<div>\n",
       "<style scoped>\n",
       "    .dataframe tbody tr th:only-of-type {\n",
       "        vertical-align: middle;\n",
       "    }\n",
       "\n",
       "    .dataframe tbody tr th {\n",
       "        vertical-align: top;\n",
       "    }\n",
       "\n",
       "    .dataframe thead th {\n",
       "        text-align: right;\n",
       "    }\n",
       "</style>\n",
       "<table border=\"1\" class=\"dataframe\">\n",
       "  <thead>\n",
       "    <tr style=\"text-align: right;\">\n",
       "      <th></th>\n",
       "      <th>sumsquare_error</th>\n",
       "      <th>aic</th>\n",
       "      <th>bic</th>\n",
       "      <th>kl_div</th>\n",
       "    </tr>\n",
       "  </thead>\n",
       "  <tbody>\n",
       "    <tr>\n",
       "      <td>laplace</td>\n",
       "      <td>41.470052</td>\n",
       "      <td>974.875522</td>\n",
       "      <td>-7824.489639</td>\n",
       "      <td>inf</td>\n",
       "    </tr>\n",
       "    <tr>\n",
       "      <td>gennorm</td>\n",
       "      <td>62.395292</td>\n",
       "      <td>810.641506</td>\n",
       "      <td>-6992.489856</td>\n",
       "      <td>inf</td>\n",
       "    </tr>\n",
       "    <tr>\n",
       "      <td>hypsecant</td>\n",
       "      <td>65.529173</td>\n",
       "      <td>1177.219384</td>\n",
       "      <td>-6901.206414</td>\n",
       "      <td>inf</td>\n",
       "    </tr>\n",
       "    <tr>\n",
       "      <td>genlogistic</td>\n",
       "      <td>113.845531</td>\n",
       "      <td>1427.663002</td>\n",
       "      <td>-5778.960097</td>\n",
       "      <td>inf</td>\n",
       "    </tr>\n",
       "    <tr>\n",
       "      <td>cauchy</td>\n",
       "      <td>115.643706</td>\n",
       "      <td>228.390989</td>\n",
       "      <td>-5754.945016</td>\n",
       "      <td>inf</td>\n",
       "    </tr>\n",
       "  </tbody>\n",
       "</table>\n",
       "</div>"
      ],
      "text/plain": [
       "             sumsquare_error          aic          bic  kl_div\n",
       "laplace            41.470052   974.875522 -7824.489639     inf\n",
       "gennorm            62.395292   810.641506 -6992.489856     inf\n",
       "hypsecant          65.529173  1177.219384 -6901.206414     inf\n",
       "genlogistic       113.845531  1427.663002 -5778.960097     inf\n",
       "cauchy            115.643706   228.390989 -5754.945016     inf"
      ]
     },
     "execution_count": 86,
     "metadata": {},
     "output_type": "execute_result"
    },
    {
     "data": {
      "image/png": "[encoded data removed]",
      "text/plain": [
       "<Figure size 432x288 with 1 Axes>"
      ]
     },
     "metadata": {
      "needs_background": "light"
     },
     "output_type": "display_data"
    }
   ],
   "source": [
    "f_fbk.summary()"
   ]
  },
  {
   "cell_type": "code",
   "execution_count": 20,
   "metadata": {
    "scrolled": false
   },
   "outputs": [
    {
     "data": {
      "image/png": "[encoded data removed]",
      "text/plain": [
       "<Figure size 1728x288 with 3 Axes>"
      ]
     },
     "metadata": {
      "needs_background": "light"
     },
     "output_type": "display_data"
    }
   ],
   "source": [
    "plot = plt.figure(figsize=(24,4))\n",
    "\n",
    "apl = plot.add_subplot(131, title = 'AAPL')\n",
    "plt.plot(apple['d_ret'])\n",
    "\n",
    "ggl = plot.add_subplot(132, title = 'GOOG')\n",
    "plt.plot(google['d_ret'])\n",
    "\n",
    "fb = plot.add_subplot(133, title = 'FB')\n",
    "plt.plot(fbk['d_ret'])\n",
    "\n",
    "plt.show()"
   ]
  },
  {
   "cell_type": "markdown",
   "metadata": {},
   "source": [
    "По графикам видно, что распределение доходностей стационарно по времени, так как по крайней мере mean не меняется"
   ]
  },
  {
   "cell_type": "markdown",
   "metadata": {},
   "source": [
    "Проверяю стационарность доходностей по времени с помощью теста Дики-Фуллера"
   ]
  },
  {
   "cell_type": "code",
   "execution_count": 21,
   "metadata": {},
   "outputs": [],
   "source": [
    "from statsmodels.tsa.stattools import adfuller"
   ]
  },
  {
   "cell_type": "code",
   "execution_count": 29,
   "metadata": {},
   "outputs": [],
   "source": [
    "res_a = adfuller(apple['d_ret'])"
   ]
  },
  {
   "cell_type": "code",
   "execution_count": 30,
   "metadata": {},
   "outputs": [
    {
     "name": "stdout",
     "output_type": "stream",
     "text": [
      "Доходности AAPL стационарны\n"
     ]
    }
   ],
   "source": [
    "if res_a[0] < res_a[4]['5%']: \n",
    "    print('Доходности AAPL стационарны')\n",
    "else:\n",
    "    print('Доходности AAPL не стационарны')"
   ]
  },
  {
   "cell_type": "code",
   "execution_count": 31,
   "metadata": {},
   "outputs": [
    {
     "name": "stdout",
     "output_type": "stream",
     "text": [
      "Доходности GOOG стационарны\n"
     ]
    }
   ],
   "source": [
    "res_g = adfuller(google['d_ret'])\n",
    "\n",
    "if res_g[0] < res_g[4]['5%']: \n",
    "    print('Доходности GOOG стационарны')\n",
    "else:\n",
    "    print('Доходности GOOG не стационарны')"
   ]
  },
  {
   "cell_type": "code",
   "execution_count": 32,
   "metadata": {},
   "outputs": [
    {
     "name": "stdout",
     "output_type": "stream",
     "text": [
      "Доходности FB стационарны\n"
     ]
    }
   ],
   "source": [
    "res_f = adfuller(fbk['d_ret'])\n",
    "\n",
    "if res_f[0] < res_f[4]['5%']: \n",
    "    print('Доходности FB стационарны')\n",
    "else:\n",
    "    print('Доходности FB не стационарны')"
   ]
  },
  {
   "cell_type": "markdown",
   "metadata": {},
   "source": [
    "Для поиска взаимосвязей между прошлыми и будущими значениями используется функция построения графика автокорреляций"
   ]
  },
  {
   "cell_type": "code",
   "execution_count": 33,
   "metadata": {},
   "outputs": [],
   "source": [
    "from statsmodels.graphics.tsaplots import plot_acf"
   ]
  },
  {
   "cell_type": "code",
   "execution_count": 34,
   "metadata": {},
   "outputs": [
    {
     "data": {
      "image/png": "[encoded data removed]",
      "text/plain": [
       "<Figure size 1080x1080 with 3 Axes>"
      ]
     },
     "metadata": {
      "needs_background": "light"
     },
     "output_type": "display_data"
    }
   ],
   "source": [
    "plot = plt.figure(figsize=(15,15))\n",
    "\n",
    "sp_a = plot.add_subplot(311)\n",
    "ac_a = plot_acf(apple['d_ret'], lags=30, ax=sp_a, title = 'AAPL')\n",
    "\n",
    "sp_g = plot.add_subplot(312)\n",
    "ac_g = plot_acf(google['d_ret'], lags=30, ax=sp_g, title = 'GOOG')\n",
    "\n",
    "sp_f = plot.add_subplot(313)\n",
    "ac_f = plot_acf(fbk['d_ret'], lags=30, ax=sp_f, title = 'FB')"
   ]
  },
  {
   "cell_type": "markdown",
   "metadata": {},
   "source": [
    "У доходностей акций заметна корреляция на 6, 7 и 8 день (для AAPL и GOOG особенно 8 день), что может быть связано с возобновлением торгов после выходных(?)"
   ]
  },
  {
   "cell_type": "markdown",
   "metadata": {},
   "source": [
    "Численные коэффициэнты можно посмотреть через ARMA"
   ]
  },
  {
   "cell_type": "code",
   "execution_count": 35,
   "metadata": {},
   "outputs": [],
   "source": [
    "from statsmodels.tsa.arima_model import ARMA"
   ]
  },
  {
   "cell_type": "code",
   "execution_count": 58,
   "metadata": {},
   "outputs": [],
   "source": [
    "arma_a = ARMA(apple['d_ret'], order=(10,1))"
   ]
  },
  {
   "cell_type": "code",
   "execution_count": 59,
   "metadata": {},
   "outputs": [
    {
     "data": {
      "text/html": [
       "<table class=\"simpletable\">\n",
       "<caption>ARMA Model Results</caption>\n",
       "<tr>\n",
       "  <th>Dep. Variable:</th>       <td>d_ret</td>      <th>  No. Observations:  </th>    <td>2618</td>   \n",
       "</tr>\n",
       "<tr>\n",
       "  <th>Model:</th>            <td>ARMA(10, 1)</td>   <th>  Log Likelihood     </th>  <td>6928.861</td> \n",
       "</tr>\n",
       "<tr>\n",
       "  <th>Method:</th>             <td>css-mle</td>     <th>  S.D. of innovations</th>    <td>0.017</td>  \n",
       "</tr>\n",
       "<tr>\n",
       "  <th>Date:</th>          <td>Sat, 30 May 2020</td> <th>  AIC                </th> <td>-13831.723</td>\n",
       "</tr>\n",
       "<tr>\n",
       "  <th>Time:</th>              <td>17:50:26</td>     <th>  BIC                </th> <td>-13755.411</td>\n",
       "</tr>\n",
       "<tr>\n",
       "  <th>Sample:</th>                <td>0</td>        <th>  HQIC               </th> <td>-13804.083</td>\n",
       "</tr>\n",
       "<tr>\n",
       "  <th></th>                       <td> </td>        <th>                     </th>      <td> </td>    \n",
       "</tr>\n",
       "</table>\n",
       "<table class=\"simpletable\">\n",
       "<tr>\n",
       "        <td></td>          <th>coef</th>     <th>std err</th>      <th>z</th>      <th>P>|z|</th>  <th>[0.025</th>    <th>0.975]</th>  \n",
       "</tr>\n",
       "<tr>\n",
       "  <th>const</th>        <td>    0.0011</td> <td>    0.000</td> <td>    3.412</td> <td> 0.001</td> <td>    0.000</td> <td>    0.002</td>\n",
       "</tr>\n",
       "<tr>\n",
       "  <th>ar.L1.d_ret</th>  <td>   -0.8301</td> <td>    0.100</td> <td>   -8.281</td> <td> 0.000</td> <td>   -1.027</td> <td>   -0.634</td>\n",
       "</tr>\n",
       "<tr>\n",
       "  <th>ar.L2.d_ret</th>  <td>   -0.0221</td> <td>    0.026</td> <td>   -0.860</td> <td> 0.390</td> <td>   -0.072</td> <td>    0.028</td>\n",
       "</tr>\n",
       "<tr>\n",
       "  <th>ar.L3.d_ret</th>  <td>   -0.0260</td> <td>    0.025</td> <td>   -1.025</td> <td> 0.306</td> <td>   -0.076</td> <td>    0.024</td>\n",
       "</tr>\n",
       "<tr>\n",
       "  <th>ar.L4.d_ret</th>  <td>   -0.0156</td> <td>    0.025</td> <td>   -0.613</td> <td> 0.540</td> <td>   -0.066</td> <td>    0.034</td>\n",
       "</tr>\n",
       "<tr>\n",
       "  <th>ar.L5.d_ret</th>  <td>    0.0011</td> <td>    0.025</td> <td>    0.045</td> <td> 0.964</td> <td>   -0.048</td> <td>    0.051</td>\n",
       "</tr>\n",
       "<tr>\n",
       "  <th>ar.L6.d_ret</th>  <td>   -0.0249</td> <td>    0.025</td> <td>   -0.984</td> <td> 0.325</td> <td>   -0.075</td> <td>    0.025</td>\n",
       "</tr>\n",
       "<tr>\n",
       "  <th>ar.L7.d_ret</th>  <td>    0.0495</td> <td>    0.025</td> <td>    1.947</td> <td> 0.052</td> <td>   -0.000</td> <td>    0.099</td>\n",
       "</tr>\n",
       "<tr>\n",
       "  <th>ar.L8.d_ret</th>  <td>   -0.0480</td> <td>    0.026</td> <td>   -1.836</td> <td> 0.066</td> <td>   -0.099</td> <td>    0.003</td>\n",
       "</tr>\n",
       "<tr>\n",
       "  <th>ar.L9.d_ret</th>  <td>   -0.0234</td> <td>    0.027</td> <td>   -0.858</td> <td> 0.391</td> <td>   -0.077</td> <td>    0.030</td>\n",
       "</tr>\n",
       "<tr>\n",
       "  <th>ar.L10.d_ret</th> <td>    0.0764</td> <td>    0.020</td> <td>    3.908</td> <td> 0.000</td> <td>    0.038</td> <td>    0.115</td>\n",
       "</tr>\n",
       "<tr>\n",
       "  <th>ma.L1.d_ret</th>  <td>    0.7956</td> <td>    0.099</td> <td>    8.037</td> <td> 0.000</td> <td>    0.602</td> <td>    0.990</td>\n",
       "</tr>\n",
       "</table>\n",
       "<table class=\"simpletable\">\n",
       "<caption>Roots</caption>\n",
       "<tr>\n",
       "    <td></td>    <th>            Real</th>  <th>         Imaginary</th> <th>         Modulus</th>  <th>        Frequency</th>\n",
       "</tr>\n",
       "<tr>\n",
       "  <th>AR.1</th>  <td>          -1.1547</td> <td>          -0.0000j</td> <td>           1.1547</td> <td>          -0.5000</td>\n",
       "</tr>\n",
       "<tr>\n",
       "  <th>AR.2</th>  <td>          -1.0596</td> <td>          -0.4800j</td> <td>           1.1632</td> <td>          -0.4323</td>\n",
       "</tr>\n",
       "<tr>\n",
       "  <th>AR.3</th>  <td>          -1.0596</td> <td>          +0.4800j</td> <td>           1.1632</td> <td>           0.4323</td>\n",
       "</tr>\n",
       "<tr>\n",
       "  <th>AR.4</th>  <td>          -0.4851</td> <td>          -1.1418j</td> <td>           1.2406</td> <td>          -0.3139</td>\n",
       "</tr>\n",
       "<tr>\n",
       "  <th>AR.5</th>  <td>          -0.4851</td> <td>          +1.1418j</td> <td>           1.2406</td> <td>           0.3139</td>\n",
       "</tr>\n",
       "<tr>\n",
       "  <th>AR.6</th>  <td>           0.3883</td> <td>          -1.2865j</td> <td>           1.3438</td> <td>          -0.2034</td>\n",
       "</tr>\n",
       "<tr>\n",
       "  <th>AR.7</th>  <td>           0.3883</td> <td>          +1.2865j</td> <td>           1.3438</td> <td>           0.2034</td>\n",
       "</tr>\n",
       "<tr>\n",
       "  <th>AR.8</th>  <td>           1.4783</td> <td>          -0.0000j</td> <td>           1.4783</td> <td>          -0.0000</td>\n",
       "</tr>\n",
       "<tr>\n",
       "  <th>AR.9</th>  <td>           1.1481</td> <td>          -0.8492j</td> <td>           1.4280</td> <td>          -0.1014</td>\n",
       "</tr>\n",
       "<tr>\n",
       "  <th>AR.10</th> <td>           1.1481</td> <td>          +0.8492j</td> <td>           1.4280</td> <td>           0.1014</td>\n",
       "</tr>\n",
       "<tr>\n",
       "  <th>MA.1</th>  <td>          -1.2569</td> <td>          +0.0000j</td> <td>           1.2569</td> <td>           0.5000</td>\n",
       "</tr>\n",
       "</table>"
      ],
      "text/plain": [
       "<class 'statsmodels.iolib.summary.Summary'>\n",
       "\"\"\"\n",
       "                              ARMA Model Results                              \n",
       "==============================================================================\n",
       "Dep. Variable:                  d_ret   No. Observations:                 2618\n",
       "Model:                    ARMA(10, 1)   Log Likelihood                6928.861\n",
       "Method:                       css-mle   S.D. of innovations              0.017\n",
       "Date:                Sat, 30 May 2020   AIC                         -13831.723\n",
       "Time:                        17:50:26   BIC                         -13755.411\n",
       "Sample:                             0   HQIC                        -13804.083\n",
       "                                                                              \n",
       "================================================================================\n",
       "                   coef    std err          z      P>|z|      [0.025      0.975]\n",
       "--------------------------------------------------------------------------------\n",
       "const            0.0011      0.000      3.412      0.001       0.000       0.002\n",
       "ar.L1.d_ret     -0.8301      0.100     -8.281      0.000      -1.027      -0.634\n",
       "ar.L2.d_ret     -0.0221      0.026     -0.860      0.390      -0.072       0.028\n",
       "ar.L3.d_ret     -0.0260      0.025     -1.025      0.306      -0.076       0.024\n",
       "ar.L4.d_ret     -0.0156      0.025     -0.613      0.540      -0.066       0.034\n",
       "ar.L5.d_ret      0.0011      0.025      0.045      0.964      -0.048       0.051\n",
       "ar.L6.d_ret     -0.0249      0.025     -0.984      0.325      -0.075       0.025\n",
       "ar.L7.d_ret      0.0495      0.025      1.947      0.052      -0.000       0.099\n",
       "ar.L8.d_ret     -0.0480      0.026     -1.836      0.066      -0.099       0.003\n",
       "ar.L9.d_ret     -0.0234      0.027     -0.858      0.391      -0.077       0.030\n",
       "ar.L10.d_ret     0.0764      0.020      3.908      0.000       0.038       0.115\n",
       "ma.L1.d_ret      0.7956      0.099      8.037      0.000       0.602       0.990\n",
       "                                    Roots                                     \n",
       "==============================================================================\n",
       "                   Real          Imaginary           Modulus         Frequency\n",
       "------------------------------------------------------------------------------\n",
       "AR.1            -1.1547           -0.0000j            1.1547           -0.5000\n",
       "AR.2            -1.0596           -0.4800j            1.1632           -0.4323\n",
       "AR.3            -1.0596           +0.4800j            1.1632            0.4323\n",
       "AR.4            -0.4851           -1.1418j            1.2406           -0.3139\n",
       "AR.5            -0.4851           +1.1418j            1.2406            0.3139\n",
       "AR.6             0.3883           -1.2865j            1.3438           -0.2034\n",
       "AR.7             0.3883           +1.2865j            1.3438            0.2034\n",
       "AR.8             1.4783           -0.0000j            1.4783           -0.0000\n",
       "AR.9             1.1481           -0.8492j            1.4280           -0.1014\n",
       "AR.10            1.1481           +0.8492j            1.4280            0.1014\n",
       "MA.1            -1.2569           +0.0000j            1.2569            0.5000\n",
       "------------------------------------------------------------------------------\n",
       "\"\"\""
      ]
     },
     "execution_count": 59,
     "metadata": {},
     "output_type": "execute_result"
    }
   ],
   "source": [
    "arma_a.fit().summary()"
   ]
  },
  {
   "cell_type": "code",
   "execution_count": 60,
   "metadata": {},
   "outputs": [
    {
     "data": {
      "text/html": [
       "<table class=\"simpletable\">\n",
       "<caption>ARMA Model Results</caption>\n",
       "<tr>\n",
       "  <th>Dep. Variable:</th>       <td>d_ret</td>      <th>  No. Observations:  </th>   <td>1554</td>   \n",
       "</tr>\n",
       "<tr>\n",
       "  <th>Model:</th>            <td>ARMA(10, 1)</td>   <th>  Log Likelihood     </th> <td>4213.691</td> \n",
       "</tr>\n",
       "<tr>\n",
       "  <th>Method:</th>             <td>css-mle</td>     <th>  S.D. of innovations</th>   <td>0.016</td>  \n",
       "</tr>\n",
       "<tr>\n",
       "  <th>Date:</th>          <td>Sat, 30 May 2020</td> <th>  AIC                </th> <td>-8401.381</td>\n",
       "</tr>\n",
       "<tr>\n",
       "  <th>Time:</th>              <td>17:59:37</td>     <th>  BIC                </th> <td>-8331.850</td>\n",
       "</tr>\n",
       "<tr>\n",
       "  <th>Sample:</th>                <td>0</td>        <th>  HQIC               </th> <td>-8375.524</td>\n",
       "</tr>\n",
       "<tr>\n",
       "  <th></th>                       <td> </td>        <th>                     </th>     <td> </td>    \n",
       "</tr>\n",
       "</table>\n",
       "<table class=\"simpletable\">\n",
       "<tr>\n",
       "        <td></td>          <th>coef</th>     <th>std err</th>      <th>z</th>      <th>P>|z|</th>  <th>[0.025</th>    <th>0.975]</th>  \n",
       "</tr>\n",
       "<tr>\n",
       "  <th>const</th>        <td>    0.0007</td> <td>    0.000</td> <td>    2.297</td> <td> 0.022</td> <td>    0.000</td> <td>    0.001</td>\n",
       "</tr>\n",
       "<tr>\n",
       "  <th>ar.L1.d_ret</th>  <td>    0.4461</td> <td>    0.271</td> <td>    1.648</td> <td> 0.099</td> <td>   -0.084</td> <td>    0.977</td>\n",
       "</tr>\n",
       "<tr>\n",
       "  <th>ar.L2.d_ret</th>  <td>   -0.0095</td> <td>    0.031</td> <td>   -0.305</td> <td> 0.760</td> <td>   -0.071</td> <td>    0.052</td>\n",
       "</tr>\n",
       "<tr>\n",
       "  <th>ar.L3.d_ret</th>  <td>    0.0235</td> <td>    0.028</td> <td>    0.829</td> <td> 0.407</td> <td>   -0.032</td> <td>    0.079</td>\n",
       "</tr>\n",
       "<tr>\n",
       "  <th>ar.L4.d_ret</th>  <td>   -0.0396</td> <td>    0.027</td> <td>   -1.464</td> <td> 0.143</td> <td>   -0.093</td> <td>    0.013</td>\n",
       "</tr>\n",
       "<tr>\n",
       "  <th>ar.L5.d_ret</th>  <td>    0.0224</td> <td>    0.028</td> <td>    0.786</td> <td> 0.432</td> <td>   -0.033</td> <td>    0.078</td>\n",
       "</tr>\n",
       "<tr>\n",
       "  <th>ar.L6.d_ret</th>  <td>   -0.0854</td> <td>    0.027</td> <td>   -3.156</td> <td> 0.002</td> <td>   -0.138</td> <td>   -0.032</td>\n",
       "</tr>\n",
       "<tr>\n",
       "  <th>ar.L7.d_ret</th>  <td>    0.1200</td> <td>    0.035</td> <td>    3.442</td> <td> 0.001</td> <td>    0.052</td> <td>    0.188</td>\n",
       "</tr>\n",
       "<tr>\n",
       "  <th>ar.L8.d_ret</th>  <td>   -0.1717</td> <td>    0.035</td> <td>   -4.963</td> <td> 0.000</td> <td>   -0.240</td> <td>   -0.104</td>\n",
       "</tr>\n",
       "<tr>\n",
       "  <th>ar.L9.d_ret</th>  <td>    0.1161</td> <td>    0.045</td> <td>    2.567</td> <td> 0.010</td> <td>    0.027</td> <td>    0.205</td>\n",
       "</tr>\n",
       "<tr>\n",
       "  <th>ar.L10.d_ret</th> <td>   -0.0602</td> <td>    0.027</td> <td>   -2.251</td> <td> 0.024</td> <td>   -0.113</td> <td>   -0.008</td>\n",
       "</tr>\n",
       "<tr>\n",
       "  <th>ma.L1.d_ret</th>  <td>   -0.4966</td> <td>    0.270</td> <td>   -1.838</td> <td> 0.066</td> <td>   -1.026</td> <td>    0.033</td>\n",
       "</tr>\n",
       "</table>\n",
       "<table class=\"simpletable\">\n",
       "<caption>Roots</caption>\n",
       "<tr>\n",
       "    <td></td>    <th>            Real</th>  <th>         Imaginary</th> <th>         Modulus</th>  <th>        Frequency</th>\n",
       "</tr>\n",
       "<tr>\n",
       "  <th>AR.1</th>  <td>          -1.0528</td> <td>          -0.4663j</td> <td>           1.1515</td> <td>          -0.4336</td>\n",
       "</tr>\n",
       "<tr>\n",
       "  <th>AR.2</th>  <td>          -1.0528</td> <td>          +0.4663j</td> <td>           1.1515</td> <td>           0.4336</td>\n",
       "</tr>\n",
       "<tr>\n",
       "  <th>AR.3</th>  <td>          -0.5107</td> <td>          -1.1664j</td> <td>           1.2733</td> <td>          -0.3157</td>\n",
       "</tr>\n",
       "<tr>\n",
       "  <th>AR.4</th>  <td>          -0.5107</td> <td>          +1.1664j</td> <td>           1.2733</td> <td>           0.3157</td>\n",
       "</tr>\n",
       "<tr>\n",
       "  <th>AR.5</th>  <td>           0.3039</td> <td>          -1.4199j</td> <td>           1.4521</td> <td>          -0.2164</td>\n",
       "</tr>\n",
       "<tr>\n",
       "  <th>AR.6</th>  <td>           0.3039</td> <td>          +1.4199j</td> <td>           1.4521</td> <td>           0.2164</td>\n",
       "</tr>\n",
       "<tr>\n",
       "  <th>AR.7</th>  <td>           1.2293</td> <td>          -0.4095j</td> <td>           1.2957</td> <td>          -0.0512</td>\n",
       "</tr>\n",
       "<tr>\n",
       "  <th>AR.8</th>  <td>           1.2293</td> <td>          +0.4095j</td> <td>           1.2957</td> <td>           0.0512</td>\n",
       "</tr>\n",
       "<tr>\n",
       "  <th>AR.9</th>  <td>           0.9954</td> <td>          -1.0925j</td> <td>           1.4779</td> <td>          -0.1324</td>\n",
       "</tr>\n",
       "<tr>\n",
       "  <th>AR.10</th> <td>           0.9954</td> <td>          +1.0925j</td> <td>           1.4779</td> <td>           0.1324</td>\n",
       "</tr>\n",
       "<tr>\n",
       "  <th>MA.1</th>  <td>           2.0137</td> <td>          +0.0000j</td> <td>           2.0137</td> <td>           0.0000</td>\n",
       "</tr>\n",
       "</table>"
      ],
      "text/plain": [
       "<class 'statsmodels.iolib.summary.Summary'>\n",
       "\"\"\"\n",
       "                              ARMA Model Results                              \n",
       "==============================================================================\n",
       "Dep. Variable:                  d_ret   No. Observations:                 1554\n",
       "Model:                    ARMA(10, 1)   Log Likelihood                4213.691\n",
       "Method:                       css-mle   S.D. of innovations              0.016\n",
       "Date:                Sat, 30 May 2020   AIC                          -8401.381\n",
       "Time:                        17:59:37   BIC                          -8331.850\n",
       "Sample:                             0   HQIC                         -8375.524\n",
       "                                                                              \n",
       "================================================================================\n",
       "                   coef    std err          z      P>|z|      [0.025      0.975]\n",
       "--------------------------------------------------------------------------------\n",
       "const            0.0007      0.000      2.297      0.022       0.000       0.001\n",
       "ar.L1.d_ret      0.4461      0.271      1.648      0.099      -0.084       0.977\n",
       "ar.L2.d_ret     -0.0095      0.031     -0.305      0.760      -0.071       0.052\n",
       "ar.L3.d_ret      0.0235      0.028      0.829      0.407      -0.032       0.079\n",
       "ar.L4.d_ret     -0.0396      0.027     -1.464      0.143      -0.093       0.013\n",
       "ar.L5.d_ret      0.0224      0.028      0.786      0.432      -0.033       0.078\n",
       "ar.L6.d_ret     -0.0854      0.027     -3.156      0.002      -0.138      -0.032\n",
       "ar.L7.d_ret      0.1200      0.035      3.442      0.001       0.052       0.188\n",
       "ar.L8.d_ret     -0.1717      0.035     -4.963      0.000      -0.240      -0.104\n",
       "ar.L9.d_ret      0.1161      0.045      2.567      0.010       0.027       0.205\n",
       "ar.L10.d_ret    -0.0602      0.027     -2.251      0.024      -0.113      -0.008\n",
       "ma.L1.d_ret     -0.4966      0.270     -1.838      0.066      -1.026       0.033\n",
       "                                    Roots                                     \n",
       "==============================================================================\n",
       "                   Real          Imaginary           Modulus         Frequency\n",
       "------------------------------------------------------------------------------\n",
       "AR.1            -1.0528           -0.4663j            1.1515           -0.4336\n",
       "AR.2            -1.0528           +0.4663j            1.1515            0.4336\n",
       "AR.3            -0.5107           -1.1664j            1.2733           -0.3157\n",
       "AR.4            -0.5107           +1.1664j            1.2733            0.3157\n",
       "AR.5             0.3039           -1.4199j            1.4521           -0.2164\n",
       "AR.6             0.3039           +1.4199j            1.4521            0.2164\n",
       "AR.7             1.2293           -0.4095j            1.2957           -0.0512\n",
       "AR.8             1.2293           +0.4095j            1.2957            0.0512\n",
       "AR.9             0.9954           -1.0925j            1.4779           -0.1324\n",
       "AR.10            0.9954           +1.0925j            1.4779            0.1324\n",
       "MA.1             2.0137           +0.0000j            2.0137            0.0000\n",
       "------------------------------------------------------------------------------\n",
       "\"\"\""
      ]
     },
     "execution_count": 60,
     "metadata": {},
     "output_type": "execute_result"
    }
   ],
   "source": [
    "arma_g = ARMA(google['d_ret'], order=(10,1))\n",
    "arma_g.fit().summary()"
   ]
  },
  {
   "cell_type": "code",
   "execution_count": null,
   "metadata": {},
   "outputs": [],
   "source": []
  }
 ],
 "metadata": {
  "kernelspec": {
   "display_name": "Python 3",
   "language": "python",
   "name": "python3"
  },
  "language_info": {
   "codemirror_mode": {
    "name": "ipython",
    "version": 3
   },
   "file_extension": ".py",
   "mimetype": "text/x-python",
   "name": "python",
   "nbconvert_exporter": "python",
   "pygments_lexer": "ipython3",
   "version": "3.7.4"
  }
 },
 "nbformat": 4,
 "nbformat_minor": 2
}
